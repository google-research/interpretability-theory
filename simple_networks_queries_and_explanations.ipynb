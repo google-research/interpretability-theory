{
  "nbformat": 4,
  "nbformat_minor": 0,
  "metadata": {
    "colab": {
      "provenance": [],
      "last_runtime": {
        "build_target": "//learning/deepmind/public/tools/ml_python:ml_notebook",
        "kind": "private"
      },
      "collapsed_sections": []
    },
    "kernelspec": {
      "name": "python3",
      "display_name": "Python 3"
    },
    "language_info": {
      "name": "python"
    }
  },
  "cells": [
    {
      "cell_type": "markdown",
      "source": [
        "libraries"
      ],
      "metadata": {
        "id": "1vAU1MMQU7aS"
      }
    },
    {
      "cell_type": "code",
      "source": [
        "import numpy as np\n",
        "import math\n",
        "import matplotlib.pyplot as plt\n",
        "\n",
        "import tensorflow as tf\n",
        "\n",
        "%matplotlib inline\n",
        "import sklearn.linear_model as linmodels\n",
        "\n",
        "from itertools import chain, combinations\n",
        "\n",
        "from tensorflow.keras import backend as K\n",
        "from tensorflow.keras.layers import Activation\n",
        "from tensorflow.keras.models import Sequential\n",
        "from tensorflow.keras.layers import Dense\n",
        "from tensorflow.keras.callbacks import EarlyStopping\n",
        "\n",
        "from tensorflow.keras import optimizers\n",
        "\n",
        "from tensorflow.keras import backend as K\n",
        "from tensorflow.keras.models import Model, load_model\n",
        "\n",
        "from sklearn.model_selection import train_test_split"
      ],
      "metadata": {
        "id": "oRt8z9L-Xobr"
      },
      "execution_count": null,
      "outputs": []
    },
    {
      "cell_type": "markdown",
      "source": [
        "data generator"
      ],
      "metadata": {
        "id": "tXvjCXjdU9d_"
      }
    },
    {
      "cell_type": "code",
      "execution_count": null,
      "metadata": {
        "id": "6EDuZtVyW_Mj"
      },
      "outputs": [],
      "source": [
        "# create some data\n",
        "\n",
        "covdim = 2\n",
        "\n",
        "# def X_samp(n):\n",
        "#   x1 = np.vstack((2*np.random.randn(n, 2) -3, np.random.randn(n, 2) ))\n",
        "#   #x2 = np.vstack((2*np.random.randn(n, 2)+5, np.random.randn(n, 2) -6))\n",
        "#   #X = np.vstack((x1, x2)) \n",
        "#   return x1\n",
        "\n",
        "def X_samp(n):\n",
        "  return np.random.rand(n,2)\n",
        "\n",
        "def true1(x):\n",
        "  #return x[0]**2 + x[1]**2\n",
        "  return 2*x[0]\n",
        "\n",
        "def true2(x):\n",
        "  return x[0]*x[1]\n",
        "\n",
        "def true3(x):\n",
        "  if x[0] < 0.6:\n",
        "    return x[1]**2\n",
        "  elif x[1] > 0.4:\n",
        "    return 2*x[1]\n",
        "  else:\n",
        "    return x[0] - x[1]\n",
        "\n",
        "def true4(x):\n",
        "  if x[0] < 0.6:\n",
        "    return x[1]**2 - x[0]\n",
        "  elif x[1] > 0.4:\n",
        "    return 2*x[1]*x[0]\n",
        "  else:\n",
        "    return x[0] - x[1]\n",
        "\n",
        "true_func = true4"
      ]
    },
    {
      "cell_type": "markdown",
      "source": [
        "shap function"
      ],
      "metadata": {
        "id": "CWXaW5NfU_hV"
      }
    },
    {
      "cell_type": "code",
      "source": [
        "# shap function\n",
        "\n",
        "def shap(model, covdim, covdist_sampler, covval, ind, M=10000):\n",
        "\n",
        "  j = ind-1\n",
        "\n",
        "  def shapwt(i):\n",
        "    if i == covdim:\n",
        "      return 0\n",
        "    else:\n",
        "      return math.factorial(i) * math.factorial(covdim - i - 1) / math.factorial(covdim)\n",
        "\n",
        "  subsets = [[]]\n",
        "\n",
        "  for el in range(covdim):\n",
        "    subsets += [s+[el] for s in subsets]\n",
        "\n",
        "  subsets.pop()\n",
        "\n",
        "  shap_val = 0\n",
        "  for subset in subsets:\n",
        "    model_diff = 0\n",
        "    for _ in range(M):\n",
        "      covsamp = covdist_sampler(1)[0]\n",
        "      covsamp_withj = np.array([covval[k] if k==j or k in subset else covsamp[k] for k in range(covdim)])\n",
        "      covsamp_noj = np.array([covval[k] if k in subset else covsamp[k] for k in range(covdim)])\n",
        "      model_diff += model(covsamp_withj) - model(covsamp_noj)\n",
        "    \n",
        "    shap_val += shapwt(len(subset)) * model_diff / M\n",
        "\n",
        "  return shap_val"
      ],
      "metadata": {
        "id": "uI3XMFqKXNQc"
      },
      "execution_count": null,
      "outputs": []
    },
    {
      "cell_type": "markdown",
      "source": [
        "debug for shap values"
      ],
      "metadata": {
        "id": "yxnaPWPUU24-"
      }
    },
    {
      "cell_type": "code",
      "source": [
        "#@title\n",
        "# debug tests for shap value\n",
        "\n",
        "###\n",
        "# shap(x) = x - 1/2\n",
        "# def model(x):\n",
        "#   return x\n",
        "\n",
        "# covdim = 1\n",
        "# ind = 1\n",
        "\n",
        "# def covdist_sampler():\n",
        "#   return np.random.rand(1)\n",
        "\n",
        "# covval = np.array([0.2])\n",
        "\n",
        "# shap(model,covdim,covdist_sampler,covval,ind)\n",
        "\n",
        "###\n",
        "# shap(x) = x**2 - 1\n",
        "# def model(x):\n",
        "#   return x**2\n",
        "\n",
        "# covdim = 1\n",
        "# ind = 1\n",
        "\n",
        "# def covdist_sampler():\n",
        "#   return np.random.randn(1)\n",
        "\n",
        "# covval = np.array([4])\n",
        "\n",
        "# shap(model,covdim,covdist_sampler,covval,ind)\n",
        "\n",
        "###\n",
        "# shap(x) = (2x[0]-1, -x[1]+1/2)\n",
        "# def model(x):\n",
        "#   return 2*x[0] - x[1]\n",
        "\n",
        "# covdim = 2\n",
        "# ind = 2\n",
        "\n",
        "# def covdist_sampler():\n",
        "#   return np.random.rand(2)\n",
        "\n",
        "# covval = np.array([1,1])\n",
        "\n",
        "# shap(model,covdim,covdist_sampler,covval,ind)\n",
        "\n",
        "###\n",
        "# shap(x,1) = 0.5 * (x1^2 + x2^2)/2 + max(x1,x2) - 2/3\n",
        "# def model(x):\n",
        "#   return np.max(x)\n",
        "\n",
        "# covdim = 2\n",
        "# ind = 1\n",
        "\n",
        "# def covdist_sampler():\n",
        "#   return np.random.rand(2)\n",
        "\n",
        "# covval = np.array([0,1])\n",
        "\n",
        "# shap(model,covdim,covdist_sampler,covval,ind)\n",
        "\n",
        "###\n",
        "\n",
        "def f1(x):\n",
        "  return x**2\n",
        "\n",
        "def f2(x):\n",
        "  return x - x**3\n",
        "\n",
        "def test(x):\n",
        "  x1,x2 = x\n",
        "  return f1(x1) + f2(x2)\n",
        "\n",
        "def f3(x):\n",
        "  return np.max(x)\n",
        "\n",
        "#print(shap(f1,1,lambda n: X_samp(1)[:,0].reshape((1,1)),np.array([0.4]),1,M=1000))\n",
        "#print(shap(f2,1,lambda n: X_samp(1)[:,1].reshape((1,1)),np.array([0.6]),1,M=1000))\n",
        "print(shap(f3,2,lambda n: X_samp(2),np.array([0,0.5]),1,M=1000))\n",
        "#print(shap(test,2,X_samp,np.array([0.4, 0.6]),2,M=1000))"
      ],
      "metadata": {
        "id": "uoyh8E5zKlNr",
        "executionInfo": {
          "status": "ok",
          "timestamp": 1663893021317,
          "user_tz": 420,
          "elapsed": 59,
          "user": {
            "displayName": "Blair Bilodeau",
            "userId": "00770269707576923658"
          }
        },
        "outputId": "d9ebcee1-41f8-41fa-8d96-f8f170cab48b"
      },
      "execution_count": null,
      "outputs": [
        {
          "output_type": "stream",
          "name": "stdout",
          "text": [
            "-0.13746544425463053\n"
          ]
        }
      ]
    },
    {
      "cell_type": "code",
      "source": [
        "X_samp(1)"
      ],
      "metadata": {
        "id": "WDu3Iow7v89F",
        "executionInfo": {
          "status": "ok",
          "timestamp": 1663892971574,
          "user_tz": 420,
          "elapsed": 66,
          "user": {
            "displayName": "Blair Bilodeau",
            "userId": "00770269707576923658"
          }
        },
        "outputId": "0e2d92c4-4b98-4829-90c6-39bcaf198606"
      },
      "execution_count": null,
      "outputs": [
        {
          "output_type": "execute_result",
          "data": {
            "text/plain": [
              "array([[0.11339957, 0.63803369]])"
            ]
          },
          "metadata": {},
          "execution_count": 8
        }
      ]
    },
    {
      "cell_type": "markdown",
      "source": [
        "neural net"
      ],
      "metadata": {
        "id": "s1lXiV8ZVBqz"
      }
    },
    {
      "cell_type": "code",
      "source": [
        "# train a model \n",
        "\n",
        "def fit_multilayer_nn(x, y, nodes_per_layer = 5, num_layers=3, batch_size=10000, epochs=100):\n",
        "\n",
        "  model = Sequential()\n",
        "  input_dim = len(x[0])\n",
        "  print('input dimension: %s ' % input_dim)\n",
        "  if isinstance(nodes_per_layer, list):\n",
        "    assert(num_layers == len(nodes_per_layer))\n",
        "  else:\n",
        "    nodes_per_layer = [nodes_per_layer]*num_layers\n",
        "\n",
        "  model.add(Dense(nodes_per_layer[0], input_dim=input_dim, name='input_mapping')) #, activation=\"tanh\"))\n",
        "\n",
        "  for l in range(num_layers-1):\n",
        "    #model.add(Dense(nodes_per_layer, activation=\"relu\"))\n",
        "    model.add(Dense(nodes_per_layer[l+1], activation=\"relu\", name='relu%s' % (l)))\n",
        "    model.add(Dense(nodes_per_layer[l+1], name='fc%s' % (l))) #, activation=\"tanh\"))\n",
        "\n",
        "\n",
        "  # All parameter gradients will be clipped to\n",
        "  # a maximum norm of 5.\n",
        "  \n",
        "  initial_learning_rate = 0.1\n",
        "  lr_schedule = optimizers.schedules.ExponentialDecay(\n",
        "    initial_learning_rate,\n",
        "    decay_steps=epochs/10,\n",
        "    decay_rate=0.96,\n",
        "    staircase=True)\n",
        "\n",
        "  sgd = optimizers.SGD(learning_rate=lr_schedule, clipnorm=5.)\n",
        "  #sgd = optimizers.SGD(lr=0.01, clipnorm=5.)\n",
        "  model.add(Dense(1, name='final'));\n",
        "  model.compile(loss='mean_squared_error', optimizer=sgd, metrics = ['mean_squared_error'])\n",
        "  input_x = x.reshape(x.shape[0], -1)\n",
        "  print(input_x.shape, y.shape)\n",
        "  model.summary()\n",
        "  callback_funs = None\n",
        "\n",
        "  model.fit(input_x, y, batch_size=batch_size, epochs=epochs,\n",
        "            verbose=2, validation_split=0.1, \n",
        "            validation_data=None, shuffle=True, class_weight=None, sample_weight=None, \n",
        "            initial_epoch=0, callbacks=callback_funs)\n",
        "\n",
        "  return model\n"
      ],
      "metadata": {
        "id": "cn-R_avGXOPj"
      },
      "execution_count": null,
      "outputs": []
    },
    {
      "cell_type": "markdown",
      "source": [
        "train neural net"
      ],
      "metadata": {
        "id": "EoP2vNbZVFaX"
      }
    },
    {
      "cell_type": "code",
      "source": [
        "# run\n",
        "\n",
        "def train_nn(X_sampler, true_model, num_samples=100, nodes_per_layer=[5]*3, batch_size=10, epochs=300):\n",
        "\n",
        "  X = X_sampler(num_samples)\n",
        "  y = np.array([true_model(x) for x in X])  \n",
        "\n",
        "  test_size = 0.3\n",
        "  X_train, X_test, y_train, y_test = train_test_split(X, y, test_size=test_size)\n",
        "\n",
        "  num_layers = len(nodes_per_layer)\n",
        "  model = fit_multilayer_nn(X_train, y_train, nodes_per_layer=nodes_per_layer, num_layers=num_layers, batch_size=batch_size, epochs=epochs)\n",
        "\n",
        "  return model, X_train, X_test, y_train, y_test\n",
        "\n",
        "model, X_train, X_test, y_train, y_test = train_nn(X_samp, true_func, num_samples=500, nodes_per_layer=[100]*3, epochs=200)"
      ],
      "metadata": {
        "id": "tIBFS-kmM2we",
        "executionInfo": {
          "status": "ok",
          "timestamp": 1663170903671,
          "user_tz": 420,
          "elapsed": 17160,
          "user": {
            "displayName": "Blair Bilodeau",
            "userId": "00770269707576923658"
          }
        },
        "outputId": "53d972ab-64b9-49e5-92f8-8d130ef939d1"
      },
      "execution_count": null,
      "outputs": [
        {
          "output_type": "stream",
          "name": "stdout",
          "text": [
            "input dimension: 2 \n",
            "(350, 2) (350,)\n",
            "Model: \"sequential\"\n",
            "_________________________________________________________________\n",
            " Layer (type)                Output Shape              Param #   \n",
            "=================================================================\n",
            " input_mapping (Dense)       (None, 100)               300       \n",
            "                                                                 \n",
            " relu0 (Dense)               (None, 100)               10100     \n",
            "                                                                 \n",
            " fc0 (Dense)                 (None, 100)               10100     \n",
            "                                                                 \n",
            " relu1 (Dense)               (None, 100)               10100     \n",
            "                                                                 \n",
            " fc1 (Dense)                 (None, 100)               10100     \n",
            "                                                                 \n",
            " final (Dense)               (None, 1)                 101       \n",
            "                                                                 \n",
            "=================================================================\n",
            "Total params: 40,801\n",
            "Trainable params: 40,801\n",
            "Non-trainable params: 0\n",
            "_________________________________________________________________\n",
            "Epoch 1/200\n",
            "32/32 - 1s - loss: 0.2537 - mean_squared_error: 0.2537 - val_loss: 0.1503 - val_mean_squared_error: 0.1503 - 1s/epoch - 41ms/step\n",
            "Epoch 2/200\n",
            "32/32 - 0s - loss: 0.1298 - mean_squared_error: 0.1298 - val_loss: 0.1132 - val_mean_squared_error: 0.1132 - 103ms/epoch - 3ms/step\n",
            "Epoch 3/200\n",
            "32/32 - 0s - loss: 0.1586 - mean_squared_error: 0.1586 - val_loss: 0.0793 - val_mean_squared_error: 0.0793 - 65ms/epoch - 2ms/step\n",
            "Epoch 4/200\n",
            "32/32 - 0s - loss: 0.0922 - mean_squared_error: 0.0922 - val_loss: 0.0874 - val_mean_squared_error: 0.0874 - 80ms/epoch - 2ms/step\n",
            "Epoch 5/200\n",
            "32/32 - 0s - loss: 0.0974 - mean_squared_error: 0.0974 - val_loss: 0.1527 - val_mean_squared_error: 0.1527 - 102ms/epoch - 3ms/step\n",
            "Epoch 6/200\n",
            "32/32 - 0s - loss: 0.0465 - mean_squared_error: 0.0465 - val_loss: 0.0651 - val_mean_squared_error: 0.0651 - 72ms/epoch - 2ms/step\n",
            "Epoch 7/200\n",
            "32/32 - 0s - loss: 0.0557 - mean_squared_error: 0.0557 - val_loss: 0.0491 - val_mean_squared_error: 0.0491 - 66ms/epoch - 2ms/step\n",
            "Epoch 8/200\n",
            "32/32 - 0s - loss: 0.0536 - mean_squared_error: 0.0536 - val_loss: 0.0922 - val_mean_squared_error: 0.0922 - 65ms/epoch - 2ms/step\n",
            "Epoch 9/200\n",
            "32/32 - 0s - loss: 0.0463 - mean_squared_error: 0.0463 - val_loss: 0.0583 - val_mean_squared_error: 0.0583 - 83ms/epoch - 3ms/step\n",
            "Epoch 10/200\n",
            "32/32 - 0s - loss: 0.0359 - mean_squared_error: 0.0359 - val_loss: 0.0431 - val_mean_squared_error: 0.0431 - 104ms/epoch - 3ms/step\n",
            "Epoch 11/200\n",
            "32/32 - 0s - loss: 0.0359 - mean_squared_error: 0.0359 - val_loss: 0.1247 - val_mean_squared_error: 0.1247 - 62ms/epoch - 2ms/step\n",
            "Epoch 12/200\n",
            "32/32 - 0s - loss: 0.0415 - mean_squared_error: 0.0415 - val_loss: 0.1040 - val_mean_squared_error: 0.1040 - 66ms/epoch - 2ms/step\n",
            "Epoch 13/200\n",
            "32/32 - 0s - loss: 0.0286 - mean_squared_error: 0.0286 - val_loss: 0.0494 - val_mean_squared_error: 0.0494 - 65ms/epoch - 2ms/step\n",
            "Epoch 14/200\n",
            "32/32 - 0s - loss: 0.0292 - mean_squared_error: 0.0292 - val_loss: 0.0435 - val_mean_squared_error: 0.0435 - 66ms/epoch - 2ms/step\n",
            "Epoch 15/200\n",
            "32/32 - 0s - loss: 0.0295 - mean_squared_error: 0.0295 - val_loss: 0.0502 - val_mean_squared_error: 0.0502 - 83ms/epoch - 3ms/step\n",
            "Epoch 16/200\n",
            "32/32 - 0s - loss: 0.0303 - mean_squared_error: 0.0303 - val_loss: 0.0493 - val_mean_squared_error: 0.0493 - 70ms/epoch - 2ms/step\n",
            "Epoch 17/200\n",
            "32/32 - 0s - loss: 0.0284 - mean_squared_error: 0.0284 - val_loss: 0.0428 - val_mean_squared_error: 0.0428 - 80ms/epoch - 3ms/step\n",
            "Epoch 18/200\n",
            "32/32 - 0s - loss: 0.0267 - mean_squared_error: 0.0267 - val_loss: 0.0446 - val_mean_squared_error: 0.0446 - 89ms/epoch - 3ms/step\n",
            "Epoch 19/200\n",
            "32/32 - 0s - loss: 0.0248 - mean_squared_error: 0.0248 - val_loss: 0.0395 - val_mean_squared_error: 0.0395 - 65ms/epoch - 2ms/step\n",
            "Epoch 20/200\n",
            "32/32 - 0s - loss: 0.0241 - mean_squared_error: 0.0241 - val_loss: 0.0375 - val_mean_squared_error: 0.0375 - 68ms/epoch - 2ms/step\n",
            "Epoch 21/200\n",
            "32/32 - 0s - loss: 0.0235 - mean_squared_error: 0.0235 - val_loss: 0.0491 - val_mean_squared_error: 0.0491 - 117ms/epoch - 4ms/step\n",
            "Epoch 22/200\n",
            "32/32 - 0s - loss: 0.0240 - mean_squared_error: 0.0240 - val_loss: 0.0374 - val_mean_squared_error: 0.0374 - 69ms/epoch - 2ms/step\n",
            "Epoch 23/200\n",
            "32/32 - 0s - loss: 0.0235 - mean_squared_error: 0.0235 - val_loss: 0.0487 - val_mean_squared_error: 0.0487 - 74ms/epoch - 2ms/step\n",
            "Epoch 24/200\n",
            "32/32 - 0s - loss: 0.0218 - mean_squared_error: 0.0218 - val_loss: 0.0367 - val_mean_squared_error: 0.0367 - 80ms/epoch - 2ms/step\n",
            "Epoch 25/200\n",
            "32/32 - 0s - loss: 0.0217 - mean_squared_error: 0.0217 - val_loss: 0.0405 - val_mean_squared_error: 0.0405 - 84ms/epoch - 3ms/step\n",
            "Epoch 26/200\n",
            "32/32 - 0s - loss: 0.0217 - mean_squared_error: 0.0217 - val_loss: 0.0358 - val_mean_squared_error: 0.0358 - 83ms/epoch - 3ms/step\n",
            "Epoch 27/200\n",
            "32/32 - 0s - loss: 0.0229 - mean_squared_error: 0.0229 - val_loss: 0.0339 - val_mean_squared_error: 0.0339 - 71ms/epoch - 2ms/step\n",
            "Epoch 28/200\n",
            "32/32 - 0s - loss: 0.0211 - mean_squared_error: 0.0211 - val_loss: 0.0337 - val_mean_squared_error: 0.0337 - 75ms/epoch - 2ms/step\n",
            "Epoch 29/200\n",
            "32/32 - 0s - loss: 0.0213 - mean_squared_error: 0.0213 - val_loss: 0.0330 - val_mean_squared_error: 0.0330 - 73ms/epoch - 2ms/step\n",
            "Epoch 30/200\n",
            "32/32 - 0s - loss: 0.0207 - mean_squared_error: 0.0207 - val_loss: 0.0357 - val_mean_squared_error: 0.0357 - 67ms/epoch - 2ms/step\n",
            "Epoch 31/200\n",
            "32/32 - 0s - loss: 0.0203 - mean_squared_error: 0.0203 - val_loss: 0.0354 - val_mean_squared_error: 0.0354 - 65ms/epoch - 2ms/step\n",
            "Epoch 32/200\n",
            "32/32 - 0s - loss: 0.0196 - mean_squared_error: 0.0196 - val_loss: 0.0359 - val_mean_squared_error: 0.0359 - 68ms/epoch - 2ms/step\n",
            "Epoch 33/200\n",
            "32/32 - 0s - loss: 0.0200 - mean_squared_error: 0.0200 - val_loss: 0.0357 - val_mean_squared_error: 0.0357 - 77ms/epoch - 2ms/step\n",
            "Epoch 34/200\n",
            "32/32 - 0s - loss: 0.0198 - mean_squared_error: 0.0198 - val_loss: 0.0345 - val_mean_squared_error: 0.0345 - 68ms/epoch - 2ms/step\n",
            "Epoch 35/200\n",
            "32/32 - 0s - loss: 0.0191 - mean_squared_error: 0.0191 - val_loss: 0.0371 - val_mean_squared_error: 0.0371 - 72ms/epoch - 2ms/step\n",
            "Epoch 36/200\n",
            "32/32 - 0s - loss: 0.0192 - mean_squared_error: 0.0192 - val_loss: 0.0361 - val_mean_squared_error: 0.0361 - 102ms/epoch - 3ms/step\n",
            "Epoch 37/200\n",
            "32/32 - 0s - loss: 0.0187 - mean_squared_error: 0.0187 - val_loss: 0.0339 - val_mean_squared_error: 0.0339 - 61ms/epoch - 2ms/step\n",
            "Epoch 38/200\n",
            "32/32 - 0s - loss: 0.0186 - mean_squared_error: 0.0186 - val_loss: 0.0348 - val_mean_squared_error: 0.0348 - 68ms/epoch - 2ms/step\n",
            "Epoch 39/200\n",
            "32/32 - 0s - loss: 0.0182 - mean_squared_error: 0.0182 - val_loss: 0.0350 - val_mean_squared_error: 0.0350 - 69ms/epoch - 2ms/step\n",
            "Epoch 40/200\n",
            "32/32 - 0s - loss: 0.0182 - mean_squared_error: 0.0182 - val_loss: 0.0324 - val_mean_squared_error: 0.0324 - 62ms/epoch - 2ms/step\n",
            "Epoch 41/200\n",
            "32/32 - 0s - loss: 0.0179 - mean_squared_error: 0.0179 - val_loss: 0.0331 - val_mean_squared_error: 0.0331 - 67ms/epoch - 2ms/step\n",
            "Epoch 42/200\n",
            "32/32 - 0s - loss: 0.0182 - mean_squared_error: 0.0182 - val_loss: 0.0333 - val_mean_squared_error: 0.0333 - 68ms/epoch - 2ms/step\n",
            "Epoch 43/200\n",
            "32/32 - 0s - loss: 0.0178 - mean_squared_error: 0.0178 - val_loss: 0.0341 - val_mean_squared_error: 0.0341 - 71ms/epoch - 2ms/step\n",
            "Epoch 44/200\n",
            "32/32 - 0s - loss: 0.0177 - mean_squared_error: 0.0177 - val_loss: 0.0320 - val_mean_squared_error: 0.0320 - 72ms/epoch - 2ms/step\n",
            "Epoch 45/200\n",
            "32/32 - 0s - loss: 0.0177 - mean_squared_error: 0.0177 - val_loss: 0.0317 - val_mean_squared_error: 0.0317 - 69ms/epoch - 2ms/step\n",
            "Epoch 46/200\n",
            "32/32 - 0s - loss: 0.0174 - mean_squared_error: 0.0174 - val_loss: 0.0345 - val_mean_squared_error: 0.0345 - 63ms/epoch - 2ms/step\n",
            "Epoch 47/200\n",
            "32/32 - 0s - loss: 0.0174 - mean_squared_error: 0.0174 - val_loss: 0.0329 - val_mean_squared_error: 0.0329 - 70ms/epoch - 2ms/step\n",
            "Epoch 48/200\n",
            "32/32 - 0s - loss: 0.0173 - mean_squared_error: 0.0173 - val_loss: 0.0335 - val_mean_squared_error: 0.0335 - 68ms/epoch - 2ms/step\n",
            "Epoch 49/200\n",
            "32/32 - 0s - loss: 0.0173 - mean_squared_error: 0.0173 - val_loss: 0.0332 - val_mean_squared_error: 0.0332 - 60ms/epoch - 2ms/step\n",
            "Epoch 50/200\n",
            "32/32 - 0s - loss: 0.0172 - mean_squared_error: 0.0172 - val_loss: 0.0349 - val_mean_squared_error: 0.0349 - 64ms/epoch - 2ms/step\n",
            "Epoch 51/200\n",
            "32/32 - 0s - loss: 0.0172 - mean_squared_error: 0.0172 - val_loss: 0.0336 - val_mean_squared_error: 0.0336 - 62ms/epoch - 2ms/step\n",
            "Epoch 52/200\n",
            "32/32 - 0s - loss: 0.0171 - mean_squared_error: 0.0171 - val_loss: 0.0326 - val_mean_squared_error: 0.0326 - 60ms/epoch - 2ms/step\n",
            "Epoch 53/200\n",
            "32/32 - 0s - loss: 0.0170 - mean_squared_error: 0.0170 - val_loss: 0.0329 - val_mean_squared_error: 0.0329 - 122ms/epoch - 4ms/step\n",
            "Epoch 54/200\n",
            "32/32 - 0s - loss: 0.0169 - mean_squared_error: 0.0169 - val_loss: 0.0325 - val_mean_squared_error: 0.0325 - 76ms/epoch - 2ms/step\n",
            "Epoch 55/200\n",
            "32/32 - 0s - loss: 0.0168 - mean_squared_error: 0.0168 - val_loss: 0.0322 - val_mean_squared_error: 0.0322 - 67ms/epoch - 2ms/step\n",
            "Epoch 56/200\n",
            "32/32 - 0s - loss: 0.0168 - mean_squared_error: 0.0168 - val_loss: 0.0318 - val_mean_squared_error: 0.0318 - 67ms/epoch - 2ms/step\n",
            "Epoch 57/200\n",
            "32/32 - 0s - loss: 0.0168 - mean_squared_error: 0.0168 - val_loss: 0.0334 - val_mean_squared_error: 0.0334 - 82ms/epoch - 3ms/step\n",
            "Epoch 58/200\n",
            "32/32 - 0s - loss: 0.0168 - mean_squared_error: 0.0168 - val_loss: 0.0326 - val_mean_squared_error: 0.0326 - 62ms/epoch - 2ms/step\n",
            "Epoch 59/200\n",
            "32/32 - 0s - loss: 0.0167 - mean_squared_error: 0.0167 - val_loss: 0.0319 - val_mean_squared_error: 0.0319 - 75ms/epoch - 2ms/step\n",
            "Epoch 60/200\n",
            "32/32 - 0s - loss: 0.0167 - mean_squared_error: 0.0167 - val_loss: 0.0328 - val_mean_squared_error: 0.0328 - 70ms/epoch - 2ms/step\n",
            "Epoch 61/200\n",
            "32/32 - 0s - loss: 0.0166 - mean_squared_error: 0.0166 - val_loss: 0.0328 - val_mean_squared_error: 0.0328 - 72ms/epoch - 2ms/step\n",
            "Epoch 62/200\n",
            "32/32 - 0s - loss: 0.0166 - mean_squared_error: 0.0166 - val_loss: 0.0327 - val_mean_squared_error: 0.0327 - 68ms/epoch - 2ms/step\n",
            "Epoch 63/200\n",
            "32/32 - 0s - loss: 0.0166 - mean_squared_error: 0.0166 - val_loss: 0.0324 - val_mean_squared_error: 0.0324 - 67ms/epoch - 2ms/step\n",
            "Epoch 64/200\n",
            "32/32 - 0s - loss: 0.0165 - mean_squared_error: 0.0165 - val_loss: 0.0323 - val_mean_squared_error: 0.0323 - 68ms/epoch - 2ms/step\n",
            "Epoch 65/200\n",
            "32/32 - 0s - loss: 0.0165 - mean_squared_error: 0.0165 - val_loss: 0.0330 - val_mean_squared_error: 0.0330 - 69ms/epoch - 2ms/step\n",
            "Epoch 66/200\n",
            "32/32 - 0s - loss: 0.0165 - mean_squared_error: 0.0165 - val_loss: 0.0330 - val_mean_squared_error: 0.0330 - 70ms/epoch - 2ms/step\n",
            "Epoch 67/200\n",
            "32/32 - 0s - loss: 0.0164 - mean_squared_error: 0.0164 - val_loss: 0.0330 - val_mean_squared_error: 0.0330 - 72ms/epoch - 2ms/step\n",
            "Epoch 68/200\n",
            "32/32 - 0s - loss: 0.0165 - mean_squared_error: 0.0165 - val_loss: 0.0326 - val_mean_squared_error: 0.0326 - 66ms/epoch - 2ms/step\n",
            "Epoch 69/200\n",
            "32/32 - 0s - loss: 0.0164 - mean_squared_error: 0.0164 - val_loss: 0.0326 - val_mean_squared_error: 0.0326 - 173ms/epoch - 5ms/step\n",
            "Epoch 70/200\n",
            "32/32 - 0s - loss: 0.0164 - mean_squared_error: 0.0164 - val_loss: 0.0327 - val_mean_squared_error: 0.0327 - 65ms/epoch - 2ms/step\n",
            "Epoch 71/200\n",
            "32/32 - 0s - loss: 0.0164 - mean_squared_error: 0.0164 - val_loss: 0.0330 - val_mean_squared_error: 0.0330 - 64ms/epoch - 2ms/step\n",
            "Epoch 72/200\n",
            "32/32 - 0s - loss: 0.0163 - mean_squared_error: 0.0163 - val_loss: 0.0326 - val_mean_squared_error: 0.0326 - 64ms/epoch - 2ms/step\n",
            "Epoch 73/200\n",
            "32/32 - 0s - loss: 0.0163 - mean_squared_error: 0.0163 - val_loss: 0.0327 - val_mean_squared_error: 0.0327 - 63ms/epoch - 2ms/step\n",
            "Epoch 74/200\n",
            "32/32 - 0s - loss: 0.0163 - mean_squared_error: 0.0163 - val_loss: 0.0326 - val_mean_squared_error: 0.0326 - 66ms/epoch - 2ms/step\n",
            "Epoch 75/200\n",
            "32/32 - 0s - loss: 0.0163 - mean_squared_error: 0.0163 - val_loss: 0.0326 - val_mean_squared_error: 0.0326 - 69ms/epoch - 2ms/step\n",
            "Epoch 76/200\n",
            "32/32 - 0s - loss: 0.0162 - mean_squared_error: 0.0162 - val_loss: 0.0327 - val_mean_squared_error: 0.0327 - 65ms/epoch - 2ms/step\n",
            "Epoch 77/200\n",
            "32/32 - 0s - loss: 0.0163 - mean_squared_error: 0.0163 - val_loss: 0.0324 - val_mean_squared_error: 0.0324 - 64ms/epoch - 2ms/step\n",
            "Epoch 78/200\n",
            "32/32 - 0s - loss: 0.0162 - mean_squared_error: 0.0162 - val_loss: 0.0324 - val_mean_squared_error: 0.0324 - 74ms/epoch - 2ms/step\n",
            "Epoch 79/200\n",
            "32/32 - 0s - loss: 0.0162 - mean_squared_error: 0.0162 - val_loss: 0.0323 - val_mean_squared_error: 0.0323 - 71ms/epoch - 2ms/step\n",
            "Epoch 80/200\n",
            "32/32 - 0s - loss: 0.0162 - mean_squared_error: 0.0162 - val_loss: 0.0323 - val_mean_squared_error: 0.0323 - 70ms/epoch - 2ms/step\n",
            "Epoch 81/200\n",
            "32/32 - 0s - loss: 0.0162 - mean_squared_error: 0.0162 - val_loss: 0.0325 - val_mean_squared_error: 0.0325 - 92ms/epoch - 3ms/step\n",
            "Epoch 82/200\n",
            "32/32 - 0s - loss: 0.0162 - mean_squared_error: 0.0162 - val_loss: 0.0325 - val_mean_squared_error: 0.0325 - 82ms/epoch - 3ms/step\n",
            "Epoch 83/200\n",
            "32/32 - 0s - loss: 0.0162 - mean_squared_error: 0.0162 - val_loss: 0.0324 - val_mean_squared_error: 0.0324 - 76ms/epoch - 2ms/step\n",
            "Epoch 84/200\n",
            "32/32 - 0s - loss: 0.0162 - mean_squared_error: 0.0162 - val_loss: 0.0324 - val_mean_squared_error: 0.0324 - 78ms/epoch - 2ms/step\n",
            "Epoch 85/200\n",
            "32/32 - 0s - loss: 0.0162 - mean_squared_error: 0.0162 - val_loss: 0.0325 - val_mean_squared_error: 0.0325 - 78ms/epoch - 2ms/step\n",
            "Epoch 86/200\n",
            "32/32 - 0s - loss: 0.0162 - mean_squared_error: 0.0162 - val_loss: 0.0324 - val_mean_squared_error: 0.0324 - 77ms/epoch - 2ms/step\n",
            "Epoch 87/200\n",
            "32/32 - 0s - loss: 0.0161 - mean_squared_error: 0.0161 - val_loss: 0.0324 - val_mean_squared_error: 0.0324 - 81ms/epoch - 3ms/step\n",
            "Epoch 88/200\n",
            "32/32 - 0s - loss: 0.0161 - mean_squared_error: 0.0161 - val_loss: 0.0324 - val_mean_squared_error: 0.0324 - 72ms/epoch - 2ms/step\n",
            "Epoch 89/200\n",
            "32/32 - 0s - loss: 0.0161 - mean_squared_error: 0.0161 - val_loss: 0.0323 - val_mean_squared_error: 0.0323 - 77ms/epoch - 2ms/step\n",
            "Epoch 90/200\n",
            "32/32 - 0s - loss: 0.0161 - mean_squared_error: 0.0161 - val_loss: 0.0324 - val_mean_squared_error: 0.0324 - 84ms/epoch - 3ms/step\n",
            "Epoch 91/200\n",
            "32/32 - 0s - loss: 0.0161 - mean_squared_error: 0.0161 - val_loss: 0.0324 - val_mean_squared_error: 0.0324 - 80ms/epoch - 2ms/step\n",
            "Epoch 92/200\n",
            "32/32 - 0s - loss: 0.0161 - mean_squared_error: 0.0161 - val_loss: 0.0323 - val_mean_squared_error: 0.0323 - 98ms/epoch - 3ms/step\n",
            "Epoch 93/200\n",
            "32/32 - 0s - loss: 0.0161 - mean_squared_error: 0.0161 - val_loss: 0.0323 - val_mean_squared_error: 0.0323 - 106ms/epoch - 3ms/step\n",
            "Epoch 94/200\n",
            "32/32 - 0s - loss: 0.0161 - mean_squared_error: 0.0161 - val_loss: 0.0323 - val_mean_squared_error: 0.0323 - 147ms/epoch - 5ms/step\n",
            "Epoch 95/200\n",
            "32/32 - 0s - loss: 0.0161 - mean_squared_error: 0.0161 - val_loss: 0.0323 - val_mean_squared_error: 0.0323 - 86ms/epoch - 3ms/step\n",
            "Epoch 96/200\n",
            "32/32 - 0s - loss: 0.0161 - mean_squared_error: 0.0161 - val_loss: 0.0323 - val_mean_squared_error: 0.0323 - 82ms/epoch - 3ms/step\n",
            "Epoch 97/200\n",
            "32/32 - 0s - loss: 0.0161 - mean_squared_error: 0.0161 - val_loss: 0.0324 - val_mean_squared_error: 0.0324 - 79ms/epoch - 2ms/step\n",
            "Epoch 98/200\n",
            "32/32 - 0s - loss: 0.0161 - mean_squared_error: 0.0161 - val_loss: 0.0324 - val_mean_squared_error: 0.0324 - 78ms/epoch - 2ms/step\n",
            "Epoch 99/200\n",
            "32/32 - 0s - loss: 0.0161 - mean_squared_error: 0.0161 - val_loss: 0.0324 - val_mean_squared_error: 0.0324 - 116ms/epoch - 4ms/step\n",
            "Epoch 100/200\n",
            "32/32 - 0s - loss: 0.0161 - mean_squared_error: 0.0161 - val_loss: 0.0324 - val_mean_squared_error: 0.0324 - 83ms/epoch - 3ms/step\n",
            "Epoch 101/200\n",
            "32/32 - 0s - loss: 0.0161 - mean_squared_error: 0.0161 - val_loss: 0.0324 - val_mean_squared_error: 0.0324 - 87ms/epoch - 3ms/step\n",
            "Epoch 102/200\n",
            "32/32 - 0s - loss: 0.0161 - mean_squared_error: 0.0161 - val_loss: 0.0324 - val_mean_squared_error: 0.0324 - 72ms/epoch - 2ms/step\n",
            "Epoch 103/200\n",
            "32/32 - 0s - loss: 0.0161 - mean_squared_error: 0.0161 - val_loss: 0.0323 - val_mean_squared_error: 0.0323 - 145ms/epoch - 5ms/step\n",
            "Epoch 104/200\n",
            "32/32 - 0s - loss: 0.0161 - mean_squared_error: 0.0161 - val_loss: 0.0324 - val_mean_squared_error: 0.0324 - 72ms/epoch - 2ms/step\n",
            "Epoch 105/200\n",
            "32/32 - 0s - loss: 0.0161 - mean_squared_error: 0.0161 - val_loss: 0.0324 - val_mean_squared_error: 0.0324 - 75ms/epoch - 2ms/step\n",
            "Epoch 106/200\n",
            "32/32 - 0s - loss: 0.0161 - mean_squared_error: 0.0161 - val_loss: 0.0324 - val_mean_squared_error: 0.0324 - 71ms/epoch - 2ms/step\n",
            "Epoch 107/200\n",
            "32/32 - 0s - loss: 0.0161 - mean_squared_error: 0.0161 - val_loss: 0.0323 - val_mean_squared_error: 0.0323 - 63ms/epoch - 2ms/step\n",
            "Epoch 108/200\n",
            "32/32 - 0s - loss: 0.0161 - mean_squared_error: 0.0161 - val_loss: 0.0323 - val_mean_squared_error: 0.0323 - 110ms/epoch - 3ms/step\n",
            "Epoch 109/200\n",
            "32/32 - 0s - loss: 0.0161 - mean_squared_error: 0.0161 - val_loss: 0.0324 - val_mean_squared_error: 0.0324 - 104ms/epoch - 3ms/step\n",
            "Epoch 110/200\n",
            "32/32 - 0s - loss: 0.0161 - mean_squared_error: 0.0161 - val_loss: 0.0324 - val_mean_squared_error: 0.0324 - 67ms/epoch - 2ms/step\n",
            "Epoch 111/200\n",
            "32/32 - 0s - loss: 0.0161 - mean_squared_error: 0.0161 - val_loss: 0.0323 - val_mean_squared_error: 0.0323 - 70ms/epoch - 2ms/step\n",
            "Epoch 112/200\n",
            "32/32 - 0s - loss: 0.0161 - mean_squared_error: 0.0161 - val_loss: 0.0323 - val_mean_squared_error: 0.0323 - 108ms/epoch - 3ms/step\n",
            "Epoch 113/200\n",
            "32/32 - 0s - loss: 0.0161 - mean_squared_error: 0.0161 - val_loss: 0.0323 - val_mean_squared_error: 0.0323 - 61ms/epoch - 2ms/step\n",
            "Epoch 114/200\n",
            "32/32 - 0s - loss: 0.0161 - mean_squared_error: 0.0161 - val_loss: 0.0323 - val_mean_squared_error: 0.0323 - 58ms/epoch - 2ms/step\n",
            "Epoch 115/200\n",
            "32/32 - 0s - loss: 0.0161 - mean_squared_error: 0.0161 - val_loss: 0.0323 - val_mean_squared_error: 0.0323 - 73ms/epoch - 2ms/step\n",
            "Epoch 116/200\n",
            "32/32 - 0s - loss: 0.0161 - mean_squared_error: 0.0161 - val_loss: 0.0323 - val_mean_squared_error: 0.0323 - 67ms/epoch - 2ms/step\n",
            "Epoch 117/200\n",
            "32/32 - 0s - loss: 0.0161 - mean_squared_error: 0.0161 - val_loss: 0.0323 - val_mean_squared_error: 0.0323 - 63ms/epoch - 2ms/step\n",
            "Epoch 118/200\n",
            "32/32 - 0s - loss: 0.0161 - mean_squared_error: 0.0161 - val_loss: 0.0323 - val_mean_squared_error: 0.0323 - 66ms/epoch - 2ms/step\n",
            "Epoch 119/200\n",
            "32/32 - 0s - loss: 0.0161 - mean_squared_error: 0.0161 - val_loss: 0.0323 - val_mean_squared_error: 0.0323 - 60ms/epoch - 2ms/step\n",
            "Epoch 120/200\n",
            "32/32 - 0s - loss: 0.0161 - mean_squared_error: 0.0161 - val_loss: 0.0323 - val_mean_squared_error: 0.0323 - 63ms/epoch - 2ms/step\n",
            "Epoch 121/200\n",
            "32/32 - 0s - loss: 0.0161 - mean_squared_error: 0.0161 - val_loss: 0.0323 - val_mean_squared_error: 0.0323 - 60ms/epoch - 2ms/step\n",
            "Epoch 122/200\n",
            "32/32 - 0s - loss: 0.0161 - mean_squared_error: 0.0161 - val_loss: 0.0323 - val_mean_squared_error: 0.0323 - 63ms/epoch - 2ms/step\n",
            "Epoch 123/200\n",
            "32/32 - 0s - loss: 0.0161 - mean_squared_error: 0.0161 - val_loss: 0.0323 - val_mean_squared_error: 0.0323 - 66ms/epoch - 2ms/step\n",
            "Epoch 124/200\n",
            "32/32 - 0s - loss: 0.0161 - mean_squared_error: 0.0161 - val_loss: 0.0323 - val_mean_squared_error: 0.0323 - 83ms/epoch - 3ms/step\n",
            "Epoch 125/200\n",
            "32/32 - 0s - loss: 0.0161 - mean_squared_error: 0.0161 - val_loss: 0.0323 - val_mean_squared_error: 0.0323 - 69ms/epoch - 2ms/step\n",
            "Epoch 126/200\n",
            "32/32 - 0s - loss: 0.0161 - mean_squared_error: 0.0161 - val_loss: 0.0323 - val_mean_squared_error: 0.0323 - 60ms/epoch - 2ms/step\n",
            "Epoch 127/200\n",
            "32/32 - 0s - loss: 0.0161 - mean_squared_error: 0.0161 - val_loss: 0.0323 - val_mean_squared_error: 0.0323 - 61ms/epoch - 2ms/step\n",
            "Epoch 128/200\n",
            "32/32 - 0s - loss: 0.0161 - mean_squared_error: 0.0161 - val_loss: 0.0323 - val_mean_squared_error: 0.0323 - 65ms/epoch - 2ms/step\n",
            "Epoch 129/200\n",
            "32/32 - 0s - loss: 0.0161 - mean_squared_error: 0.0161 - val_loss: 0.0323 - val_mean_squared_error: 0.0323 - 64ms/epoch - 2ms/step\n",
            "Epoch 130/200\n",
            "32/32 - 0s - loss: 0.0161 - mean_squared_error: 0.0161 - val_loss: 0.0323 - val_mean_squared_error: 0.0323 - 65ms/epoch - 2ms/step\n",
            "Epoch 131/200\n",
            "32/32 - 0s - loss: 0.0160 - mean_squared_error: 0.0160 - val_loss: 0.0323 - val_mean_squared_error: 0.0323 - 63ms/epoch - 2ms/step\n",
            "Epoch 132/200\n",
            "32/32 - 0s - loss: 0.0161 - mean_squared_error: 0.0161 - val_loss: 0.0323 - val_mean_squared_error: 0.0323 - 70ms/epoch - 2ms/step\n",
            "Epoch 133/200\n",
            "32/32 - 0s - loss: 0.0160 - mean_squared_error: 0.0160 - val_loss: 0.0323 - val_mean_squared_error: 0.0323 - 67ms/epoch - 2ms/step\n",
            "Epoch 134/200\n",
            "32/32 - 0s - loss: 0.0160 - mean_squared_error: 0.0160 - val_loss: 0.0323 - val_mean_squared_error: 0.0323 - 78ms/epoch - 2ms/step\n",
            "Epoch 135/200\n",
            "32/32 - 0s - loss: 0.0160 - mean_squared_error: 0.0160 - val_loss: 0.0323 - val_mean_squared_error: 0.0323 - 73ms/epoch - 2ms/step\n",
            "Epoch 136/200\n",
            "32/32 - 0s - loss: 0.0160 - mean_squared_error: 0.0160 - val_loss: 0.0323 - val_mean_squared_error: 0.0323 - 74ms/epoch - 2ms/step\n",
            "Epoch 137/200\n",
            "32/32 - 0s - loss: 0.0160 - mean_squared_error: 0.0160 - val_loss: 0.0323 - val_mean_squared_error: 0.0323 - 70ms/epoch - 2ms/step\n",
            "Epoch 138/200\n",
            "32/32 - 0s - loss: 0.0160 - mean_squared_error: 0.0160 - val_loss: 0.0323 - val_mean_squared_error: 0.0323 - 77ms/epoch - 2ms/step\n",
            "Epoch 139/200\n",
            "32/32 - 0s - loss: 0.0160 - mean_squared_error: 0.0160 - val_loss: 0.0323 - val_mean_squared_error: 0.0323 - 61ms/epoch - 2ms/step\n",
            "Epoch 140/200\n",
            "32/32 - 0s - loss: 0.0160 - mean_squared_error: 0.0160 - val_loss: 0.0323 - val_mean_squared_error: 0.0323 - 61ms/epoch - 2ms/step\n",
            "Epoch 141/200\n",
            "32/32 - 0s - loss: 0.0160 - mean_squared_error: 0.0160 - val_loss: 0.0323 - val_mean_squared_error: 0.0323 - 60ms/epoch - 2ms/step\n",
            "Epoch 142/200\n",
            "32/32 - 0s - loss: 0.0160 - mean_squared_error: 0.0160 - val_loss: 0.0323 - val_mean_squared_error: 0.0323 - 67ms/epoch - 2ms/step\n",
            "Epoch 143/200\n",
            "32/32 - 0s - loss: 0.0160 - mean_squared_error: 0.0160 - val_loss: 0.0323 - val_mean_squared_error: 0.0323 - 78ms/epoch - 2ms/step\n",
            "Epoch 144/200\n",
            "32/32 - 0s - loss: 0.0160 - mean_squared_error: 0.0160 - val_loss: 0.0323 - val_mean_squared_error: 0.0323 - 73ms/epoch - 2ms/step\n",
            "Epoch 145/200\n",
            "32/32 - 0s - loss: 0.0160 - mean_squared_error: 0.0160 - val_loss: 0.0323 - val_mean_squared_error: 0.0323 - 77ms/epoch - 2ms/step\n",
            "Epoch 146/200\n",
            "32/32 - 0s - loss: 0.0160 - mean_squared_error: 0.0160 - val_loss: 0.0323 - val_mean_squared_error: 0.0323 - 66ms/epoch - 2ms/step\n",
            "Epoch 147/200\n",
            "32/32 - 0s - loss: 0.0160 - mean_squared_error: 0.0160 - val_loss: 0.0323 - val_mean_squared_error: 0.0323 - 67ms/epoch - 2ms/step\n",
            "Epoch 148/200\n",
            "32/32 - 0s - loss: 0.0160 - mean_squared_error: 0.0160 - val_loss: 0.0323 - val_mean_squared_error: 0.0323 - 71ms/epoch - 2ms/step\n",
            "Epoch 149/200\n",
            "32/32 - 0s - loss: 0.0160 - mean_squared_error: 0.0160 - val_loss: 0.0323 - val_mean_squared_error: 0.0323 - 74ms/epoch - 2ms/step\n",
            "Epoch 150/200\n",
            "32/32 - 0s - loss: 0.0160 - mean_squared_error: 0.0160 - val_loss: 0.0323 - val_mean_squared_error: 0.0323 - 71ms/epoch - 2ms/step\n",
            "Epoch 151/200\n",
            "32/32 - 0s - loss: 0.0160 - mean_squared_error: 0.0160 - val_loss: 0.0323 - val_mean_squared_error: 0.0323 - 71ms/epoch - 2ms/step\n",
            "Epoch 152/200\n",
            "32/32 - 0s - loss: 0.0160 - mean_squared_error: 0.0160 - val_loss: 0.0323 - val_mean_squared_error: 0.0323 - 73ms/epoch - 2ms/step\n",
            "Epoch 153/200\n",
            "32/32 - 0s - loss: 0.0160 - mean_squared_error: 0.0160 - val_loss: 0.0323 - val_mean_squared_error: 0.0323 - 75ms/epoch - 2ms/step\n",
            "Epoch 154/200\n",
            "32/32 - 0s - loss: 0.0160 - mean_squared_error: 0.0160 - val_loss: 0.0323 - val_mean_squared_error: 0.0323 - 61ms/epoch - 2ms/step\n",
            "Epoch 155/200\n",
            "32/32 - 0s - loss: 0.0160 - mean_squared_error: 0.0160 - val_loss: 0.0323 - val_mean_squared_error: 0.0323 - 67ms/epoch - 2ms/step\n",
            "Epoch 156/200\n",
            "32/32 - 0s - loss: 0.0160 - mean_squared_error: 0.0160 - val_loss: 0.0323 - val_mean_squared_error: 0.0323 - 76ms/epoch - 2ms/step\n",
            "Epoch 157/200\n",
            "32/32 - 0s - loss: 0.0160 - mean_squared_error: 0.0160 - val_loss: 0.0323 - val_mean_squared_error: 0.0323 - 67ms/epoch - 2ms/step\n",
            "Epoch 158/200\n",
            "32/32 - 0s - loss: 0.0160 - mean_squared_error: 0.0160 - val_loss: 0.0323 - val_mean_squared_error: 0.0323 - 72ms/epoch - 2ms/step\n",
            "Epoch 159/200\n",
            "32/32 - 0s - loss: 0.0160 - mean_squared_error: 0.0160 - val_loss: 0.0323 - val_mean_squared_error: 0.0323 - 64ms/epoch - 2ms/step\n",
            "Epoch 160/200\n",
            "32/32 - 0s - loss: 0.0160 - mean_squared_error: 0.0160 - val_loss: 0.0323 - val_mean_squared_error: 0.0323 - 69ms/epoch - 2ms/step\n",
            "Epoch 161/200\n",
            "32/32 - 0s - loss: 0.0160 - mean_squared_error: 0.0160 - val_loss: 0.0323 - val_mean_squared_error: 0.0323 - 73ms/epoch - 2ms/step\n",
            "Epoch 162/200\n",
            "32/32 - 0s - loss: 0.0160 - mean_squared_error: 0.0160 - val_loss: 0.0323 - val_mean_squared_error: 0.0323 - 86ms/epoch - 3ms/step\n",
            "Epoch 163/200\n",
            "32/32 - 0s - loss: 0.0160 - mean_squared_error: 0.0160 - val_loss: 0.0323 - val_mean_squared_error: 0.0323 - 80ms/epoch - 2ms/step\n",
            "Epoch 164/200\n",
            "32/32 - 0s - loss: 0.0160 - mean_squared_error: 0.0160 - val_loss: 0.0323 - val_mean_squared_error: 0.0323 - 78ms/epoch - 2ms/step\n",
            "Epoch 165/200\n",
            "32/32 - 0s - loss: 0.0160 - mean_squared_error: 0.0160 - val_loss: 0.0323 - val_mean_squared_error: 0.0323 - 76ms/epoch - 2ms/step\n",
            "Epoch 166/200\n",
            "32/32 - 0s - loss: 0.0160 - mean_squared_error: 0.0160 - val_loss: 0.0323 - val_mean_squared_error: 0.0323 - 86ms/epoch - 3ms/step\n",
            "Epoch 167/200\n",
            "32/32 - 0s - loss: 0.0160 - mean_squared_error: 0.0160 - val_loss: 0.0323 - val_mean_squared_error: 0.0323 - 80ms/epoch - 2ms/step\n",
            "Epoch 168/200\n",
            "32/32 - 0s - loss: 0.0160 - mean_squared_error: 0.0160 - val_loss: 0.0323 - val_mean_squared_error: 0.0323 - 85ms/epoch - 3ms/step\n",
            "Epoch 169/200\n",
            "32/32 - 0s - loss: 0.0160 - mean_squared_error: 0.0160 - val_loss: 0.0323 - val_mean_squared_error: 0.0323 - 85ms/epoch - 3ms/step\n",
            "Epoch 170/200\n",
            "32/32 - 0s - loss: 0.0160 - mean_squared_error: 0.0160 - val_loss: 0.0323 - val_mean_squared_error: 0.0323 - 82ms/epoch - 3ms/step\n",
            "Epoch 171/200\n",
            "32/32 - 0s - loss: 0.0160 - mean_squared_error: 0.0160 - val_loss: 0.0323 - val_mean_squared_error: 0.0323 - 76ms/epoch - 2ms/step\n",
            "Epoch 172/200\n",
            "32/32 - 0s - loss: 0.0160 - mean_squared_error: 0.0160 - val_loss: 0.0323 - val_mean_squared_error: 0.0323 - 54ms/epoch - 2ms/step\n",
            "Epoch 173/200\n",
            "32/32 - 0s - loss: 0.0160 - mean_squared_error: 0.0160 - val_loss: 0.0323 - val_mean_squared_error: 0.0323 - 66ms/epoch - 2ms/step\n",
            "Epoch 174/200\n",
            "32/32 - 0s - loss: 0.0160 - mean_squared_error: 0.0160 - val_loss: 0.0323 - val_mean_squared_error: 0.0323 - 72ms/epoch - 2ms/step\n",
            "Epoch 175/200\n",
            "32/32 - 0s - loss: 0.0160 - mean_squared_error: 0.0160 - val_loss: 0.0323 - val_mean_squared_error: 0.0323 - 74ms/epoch - 2ms/step\n",
            "Epoch 176/200\n",
            "32/32 - 0s - loss: 0.0160 - mean_squared_error: 0.0160 - val_loss: 0.0323 - val_mean_squared_error: 0.0323 - 79ms/epoch - 2ms/step\n",
            "Epoch 177/200\n",
            "32/32 - 0s - loss: 0.0160 - mean_squared_error: 0.0160 - val_loss: 0.0323 - val_mean_squared_error: 0.0323 - 65ms/epoch - 2ms/step\n",
            "Epoch 178/200\n",
            "32/32 - 0s - loss: 0.0160 - mean_squared_error: 0.0160 - val_loss: 0.0323 - val_mean_squared_error: 0.0323 - 68ms/epoch - 2ms/step\n",
            "Epoch 179/200\n",
            "32/32 - 0s - loss: 0.0160 - mean_squared_error: 0.0160 - val_loss: 0.0323 - val_mean_squared_error: 0.0323 - 78ms/epoch - 2ms/step\n",
            "Epoch 180/200\n",
            "32/32 - 0s - loss: 0.0160 - mean_squared_error: 0.0160 - val_loss: 0.0323 - val_mean_squared_error: 0.0323 - 71ms/epoch - 2ms/step\n",
            "Epoch 181/200\n",
            "32/32 - 0s - loss: 0.0160 - mean_squared_error: 0.0160 - val_loss: 0.0323 - val_mean_squared_error: 0.0323 - 64ms/epoch - 2ms/step\n",
            "Epoch 182/200\n",
            "32/32 - 0s - loss: 0.0160 - mean_squared_error: 0.0160 - val_loss: 0.0323 - val_mean_squared_error: 0.0323 - 69ms/epoch - 2ms/step\n",
            "Epoch 183/200\n",
            "32/32 - 0s - loss: 0.0160 - mean_squared_error: 0.0160 - val_loss: 0.0323 - val_mean_squared_error: 0.0323 - 84ms/epoch - 3ms/step\n",
            "Epoch 184/200\n",
            "32/32 - 0s - loss: 0.0160 - mean_squared_error: 0.0160 - val_loss: 0.0323 - val_mean_squared_error: 0.0323 - 90ms/epoch - 3ms/step\n",
            "Epoch 185/200\n",
            "32/32 - 0s - loss: 0.0160 - mean_squared_error: 0.0160 - val_loss: 0.0323 - val_mean_squared_error: 0.0323 - 76ms/epoch - 2ms/step\n",
            "Epoch 186/200\n",
            "32/32 - 0s - loss: 0.0160 - mean_squared_error: 0.0160 - val_loss: 0.0323 - val_mean_squared_error: 0.0323 - 64ms/epoch - 2ms/step\n",
            "Epoch 187/200\n",
            "32/32 - 0s - loss: 0.0160 - mean_squared_error: 0.0160 - val_loss: 0.0323 - val_mean_squared_error: 0.0323 - 73ms/epoch - 2ms/step\n",
            "Epoch 188/200\n",
            "32/32 - 0s - loss: 0.0160 - mean_squared_error: 0.0160 - val_loss: 0.0323 - val_mean_squared_error: 0.0323 - 72ms/epoch - 2ms/step\n",
            "Epoch 189/200\n",
            "32/32 - 0s - loss: 0.0160 - mean_squared_error: 0.0160 - val_loss: 0.0323 - val_mean_squared_error: 0.0323 - 72ms/epoch - 2ms/step\n",
            "Epoch 190/200\n",
            "32/32 - 0s - loss: 0.0160 - mean_squared_error: 0.0160 - val_loss: 0.0323 - val_mean_squared_error: 0.0323 - 67ms/epoch - 2ms/step\n",
            "Epoch 191/200\n",
            "32/32 - 0s - loss: 0.0160 - mean_squared_error: 0.0160 - val_loss: 0.0323 - val_mean_squared_error: 0.0323 - 72ms/epoch - 2ms/step\n",
            "Epoch 192/200\n",
            "32/32 - 0s - loss: 0.0160 - mean_squared_error: 0.0160 - val_loss: 0.0323 - val_mean_squared_error: 0.0323 - 77ms/epoch - 2ms/step\n",
            "Epoch 193/200\n",
            "32/32 - 0s - loss: 0.0160 - mean_squared_error: 0.0160 - val_loss: 0.0323 - val_mean_squared_error: 0.0323 - 60ms/epoch - 2ms/step\n",
            "Epoch 194/200\n",
            "32/32 - 0s - loss: 0.0160 - mean_squared_error: 0.0160 - val_loss: 0.0323 - val_mean_squared_error: 0.0323 - 55ms/epoch - 2ms/step\n",
            "Epoch 195/200\n",
            "32/32 - 0s - loss: 0.0160 - mean_squared_error: 0.0160 - val_loss: 0.0323 - val_mean_squared_error: 0.0323 - 69ms/epoch - 2ms/step\n",
            "Epoch 196/200\n",
            "32/32 - 0s - loss: 0.0160 - mean_squared_error: 0.0160 - val_loss: 0.0323 - val_mean_squared_error: 0.0323 - 67ms/epoch - 2ms/step\n",
            "Epoch 197/200\n",
            "32/32 - 0s - loss: 0.0160 - mean_squared_error: 0.0160 - val_loss: 0.0323 - val_mean_squared_error: 0.0323 - 65ms/epoch - 2ms/step\n",
            "Epoch 198/200\n",
            "32/32 - 0s - loss: 0.0160 - mean_squared_error: 0.0160 - val_loss: 0.0323 - val_mean_squared_error: 0.0323 - 79ms/epoch - 2ms/step\n",
            "Epoch 199/200\n",
            "32/32 - 0s - loss: 0.0160 - mean_squared_error: 0.0160 - val_loss: 0.0323 - val_mean_squared_error: 0.0323 - 65ms/epoch - 2ms/step\n",
            "Epoch 200/200\n",
            "32/32 - 0s - loss: 0.0160 - mean_squared_error: 0.0160 - val_loss: 0.0323 - val_mean_squared_error: 0.0323 - 79ms/epoch - 2ms/step\n"
          ]
        }
      ]
    },
    {
      "cell_type": "markdown",
      "source": [
        "explore model performance"
      ],
      "metadata": {
        "id": "Z7q9FsFshrOv"
      }
    },
    {
      "cell_type": "code",
      "source": [
        "x = X_test\n",
        "\n",
        "ind = 1\n",
        "\n",
        "print(x[ind])\n",
        "print(true_func(x[ind]))\n",
        "print(model.predict(np.array([x[ind]])))\n"
      ],
      "metadata": {
        "id": "dh0sUlQuhtiU",
        "executionInfo": {
          "status": "ok",
          "timestamp": 1661874842567,
          "user_tz": 420,
          "elapsed": 2216,
          "user": {
            "displayName": "Blair Bilodeau",
            "userId": "00770269707576923658"
          }
        },
        "outputId": "13565f01-3dcc-43fb-a570-8fbd776d4b31"
      },
      "execution_count": null,
      "outputs": [
        {
          "output_type": "stream",
          "name": "stdout",
          "text": [
            "[0.88073964 0.56136414]\n",
            "1.1227282791183097\n",
            "[[1.1691123]]\n"
          ]
        },
        {
          "output_type": "stream",
          "name": "stderr",
          "text": [
            "/export/hda3/borglet/remote_hdd_fs_dirs/0.colab_kernel_brain_frameworks_cpu_blairbilodeau.kernel.blairbilodeau.5202848438595.14b334fb3717c109/mount/server/ml_notebook.runfiles/google3/third_party/py/keras/engine/training_v1.py:2352: UserWarning: `Model.state_updates` will be removed in a future version. This property should not be used in TensorFlow 2.0, as `updates` are applied automatically.\n",
            "  updates=self.state_updates,\n"
          ]
        }
      ]
    },
    {
      "cell_type": "code",
      "source": [
        "x = np.array([0.7,0.3])\n",
        "\n",
        "x1_vary = np.array([[u,x[1]] for u in np.arange(0.0, 1.0, 0.1)])\n",
        "true_x1_vary = np.array([true_func(z) for z in x1_vary])\n",
        "model_x1_vary = model.predict(x1_vary)\n",
        "\n",
        "plt.plot(x1_vary[:,0], true_x1_vary, '.')\n",
        "plt.plot(x1_vary[:,0], model_x1_vary, '.')\n",
        "plt.legend(['true', 'model'])\n",
        "plt.title(\"vary x1, x2={xval}\".format(xval = x[1]))\n",
        "\n",
        "# x2_vary = np.array([[x[0],u] for u in np.arange(0.0, 1.0, 0.1)])\n",
        "# true_x2_vary = np.array([true_func(z) for z in x2_vary])\n",
        "# model_x2_vary = model.predict(x2_vary)\n",
        "\n",
        "\n",
        "# plt.plot(x2_vary[:,1], true_x2_vary, '.')\n",
        "# plt.plot(x2_vary[:,1], model_x2_vary, '.')\n",
        "# plt.legend(['true', 'model'])\n",
        "# plt.title(\"vary x2, x1={xval}\".format(xval = x[0]))\n"
      ],
      "metadata": {
        "colab": {
          "height": 320
        },
        "id": "mnoT8GHGoUic",
        "executionInfo": {
          "status": "ok",
          "timestamp": 1663170915136,
          "user_tz": 420,
          "elapsed": 514,
          "user": {
            "displayName": "Blair Bilodeau",
            "userId": "00770269707576923658"
          }
        },
        "outputId": "c2fe5840-90d9-404d-fdb8-1cb81f55a553"
      },
      "execution_count": null,
      "outputs": [
        {
          "output_type": "stream",
          "name": "stdout",
          "text": [
            "1/1 [==============================] - 0s 134ms/step\n"
          ]
        },
        {
          "output_type": "execute_result",
          "data": {
            "text/plain": [
              "Text(0.5, 1.0, 'vary x1, x2=0.3')"
            ]
          },
          "metadata": {},
          "execution_count": 6
        },
        {
          "output_type": "display_data",
          "data": {
            "image/png": "[encoded data removed]",
            "text/plain": [
              "<Figure size 600x400 with 1 Axes>"
            ]
          },
          "metadata": {}
        }
      ]
    },
    {
      "cell_type": "markdown",
      "source": [
        "evaluate model shap vs true shap"
      ],
      "metadata": {
        "id": "ntvkYoyTe3V4"
      }
    },
    {
      "cell_type": "code",
      "source": [
        "def shap_model(x):\n",
        "  return model.predict(np.array([x]), verbose=0)[0]\n",
        "\n",
        "covval = np.array([0.7,0.5])\n",
        "ind = 2\n",
        "\n",
        "print(shap(true_func, 2, X_samp, covval, ind, M=100))\n",
        "print(shap(shap_model, 2, X_samp, covval, ind, M=100))\n"
      ],
      "metadata": {
        "id": "vz84UXW6spVp",
        "executionInfo": {
          "status": "ok",
          "timestamp": 1663170965256,
          "user_tz": 420,
          "elapsed": 36970,
          "user": {
            "displayName": "Blair Bilodeau",
            "userId": "00770269707576923658"
          }
        },
        "outputId": "21106da3-434f-4943-9de5-cec7096ccb68"
      },
      "execution_count": null,
      "outputs": [
        {
          "output_type": "stream",
          "name": "stdout",
          "text": [
            "-0.1101790561161919\n",
            "[-0.12341885]\n"
          ]
        }
      ]
    },
    {
      "cell_type": "markdown",
      "source": [
        "construct counterexample that matches model on training data, has free params in local neighbourhood, and then eval test error\n",
        "(for now just gonna hardcode 2 dims, will make work for more later)"
      ],
      "metadata": {
        "id": "_7wI6Flv62lq"
      }
    },
    {
      "cell_type": "code",
      "source": [
        "# number of datapoints we have\n",
        "X_train_small = X_train[0:5]\n",
        "n_train = len(X_train_small)\n",
        "\n",
        "# example to match phi on\n",
        "# hardcoded in for prototyping\n",
        "#covval_ind = np.random.randint(n_train,size=1)\n",
        "#covval = X_train[covval_ind][0]\n",
        "covval = np.array([0.3,0.8])\n",
        "#delta = 0.05 # this can't go outside domain\n",
        "\n",
        "# phi values to match\n",
        "expval1 = shap(shap_model, 2, X_samp, covval, 1, M=100)\n",
        "expval2 = shap(shap_model, 2, X_samp, covval, 2, M=100)\n",
        "\n",
        "# FREE PARAMS\n",
        "# fix these to whatever you want\n",
        "deriv_val1 = np.array([0.1])\n",
        "deriv_val2 = np.array([-0.1])\n",
        "\n",
        "# n constraints for training data points (only use covval from training data) -- assume n is odd\n",
        "# 2 constraints for expvals\n",
        "# if each polynomial is degree d, then we have 2d+1 parameters -- only x1 gets intercept\n",
        "# want 2d+1 = n+4 (match all constraints, plus extra free dimension for each feature)\n",
        "# d = (n+3)/2\n",
        "degree = int((n_train+3)/2)\n",
        "\n",
        "model_y = model.predict(X_train_small).reshape((n_train,))\n",
        "values = np.append(model_y,[expval1,expval2,deriv_val1,deriv_val2]).reshape((n_train+4,1))\n",
        "\n",
        "# powers of training values\n",
        "X_train_pows1 = np.array([[x[0]**j for j in range(1,degree+1)] for x in X_train_small])\n",
        "X_train_pows2 = np.array([[x[1]**j for j in range(1,degree+1)] for x in X_train_small])\n",
        "X_train_pows = np.hstack((np.ones((n_train, 1)), X_train_pows1, X_train_pows2)) # [1, x1, x1**2, ..., x1**d, x2, x2**2, ..., x2**d]\n",
        "\n",
        "# approximate moments to control expvals\n",
        "# NOT assuming independence\n",
        "# shift them by xval (because using to compute phi)\n",
        "num_per_deg = 1000\n",
        "moment_samps = X_samp(num_per_deg*degree)\n",
        "moments1 = np.array([covval[0]**j - np.mean(moment_samps[:,0]**j) for j in range(1,degree+1)]).reshape((1,degree))\n",
        "moments2 = np.array([[covval[1]**j - np.mean(moment_samps[:,1]**j) for j in range(1,degree+1)]]).reshape((1,degree))\n",
        "moments1 = np.hstack((np.zeros((1, 1)), moments1, np.zeros((1, degree)))) # [0, x1-Ex1, x1**2-Ex1**2, ..., x1**d-Ex1**d, 0, 0, 0, ..., 0]\n",
        "moments2 = np.hstack((np.zeros((1, degree+1)), moments2)) # [0, 0, 0, ..., 0, 0, x2-Ex2, x2**2-Ex2**2, ..., x2**d-Ex2**d]\n",
        "\n",
        "# derivatives at covval\n",
        "derivs1 = np.array([j*(covval[0]**(j-1)) for j in range(1,degree+1)]).reshape(1,degree)\n",
        "derivs2 = np.array([j*(covval[1]**(j-1)) for j in range(1,degree+1)]).reshape(1,degree)\n",
        "derivs1 = np.hstack((np.zeros((1, 1)), derivs1, np.zeros((1, degree)))) # [0, 1, 2*x1, ..., d*x1**(d-1), 0, 0, 0, ..., 0]\n",
        "derivs2 = np.hstack((np.zeros((1, degree+1)), derivs2)) # [0, 0, 0, ..., 0, 1, 2*x2, ..., d*x2**(d-1)]\n",
        "\n",
        "constraints = np.vstack((X_train_pows, moments1, moments2, derivs1, derivs2))\n",
        "# print(X_train_pows.shape)\n",
        "# print(moments1.shape)\n",
        "# print(moments2.shape)\n",
        "# print(derivs1.shape)\n",
        "# print(derivs2.shape)\n",
        "# print(constraints.shape)\n",
        "# print(values.shape)\n",
        "# print(degree)\n",
        "# print(n_train)\n",
        "\n",
        "### very ill-conditioned\n",
        "params = np.linalg.solve(constraints,values).reshape((2*degree+1,))\n",
        "#print(params)\n",
        "\n",
        "def counterexample(x):\n",
        "  x1, x2 = x\n",
        "\n",
        "  val = 0\n",
        "  for j in range(degree+1):\n",
        "    val += params[j] * (x1**(j))\n",
        "  for k in range(degree+1,2*degree+1):\n",
        "    val += params[k] * (x2**(k-degree))\n",
        "\n",
        "  return val"
      ],
      "metadata": {
        "id": "zG1xOdHae59D",
        "executionInfo": {
          "status": "ok",
          "timestamp": 1663171048915,
          "user_tz": 420,
          "elapsed": 71962,
          "user": {
            "displayName": "Blair Bilodeau",
            "userId": "00770269707576923658"
          }
        },
        "outputId": "889ffb14-294d-40ce-e7eb-665ba4f35c82"
      },
      "execution_count": null,
      "outputs": [
        {
          "output_type": "stream",
          "name": "stdout",
          "text": [
            "1/1 [==============================] - 0s 24ms/step\n"
          ]
        }
      ]
    },
    {
      "cell_type": "markdown",
      "source": [
        "sanity check"
      ],
      "metadata": {
        "id": "h8JeilItzoGE"
      }
    },
    {
      "cell_type": "code",
      "source": [
        "print(np.dot(constraints,params)[0:5])\n",
        "print(values[0:5])\n",
        "print(params[0:5])"
      ],
      "metadata": {
        "id": "k3YPQUcQzpKa",
        "executionInfo": {
          "status": "ok",
          "timestamp": 1661885525401,
          "user_tz": 420,
          "elapsed": 7,
          "user": {
            "displayName": "Blair Bilodeau",
            "userId": "00770269707576923658"
          }
        },
        "outputId": "d2c541e4-4ecb-4958-9baf-a649983f528a"
      },
      "execution_count": null,
      "outputs": [
        {
          "output_type": "stream",
          "name": "stdout",
          "text": [
            "[ 1.53914143  1.5673294   1.2794562  -0.16591332  0.72697387]\n",
            "[[ 1.55236363]\n",
            " [ 1.45061731]\n",
            " [ 1.44459224]\n",
            " [-0.01758945]\n",
            " [ 0.53961241]]\n",
            "[ -0.40737675   2.56632691 -20.10111368  53.5516584  -52.5114704 ]\n"
          ]
        }
      ]
    },
    {
      "cell_type": "markdown",
      "source": [
        "compare performance visually"
      ],
      "metadata": {
        "id": "fJfKgxP8mdbt"
      }
    },
    {
      "cell_type": "code",
      "source": [
        "x = X_train_small[1]\n",
        "\n",
        "x1_vary = np.array([[u,x[1]] for u in np.arange(0.0, 1.0, 0.1)])\n",
        "x1_vary\n",
        "true_x1_vary = np.array([true_func(z) for z in x1_vary])\n",
        "model_x1_vary = model.predict(x1_vary)\n",
        "counter_x1_vary = np.array([counterexample(z) for z in x1_vary])\n",
        "#counter_x1_vary\n",
        "\n",
        "plt.plot(x1_vary[:,0], true_x1_vary, '.')\n",
        "plt.plot(x1_vary[:,0], model_x1_vary, '.')\n",
        "plt.plot(x1_vary[:,0], counter_x1_vary, '.')\n",
        "plt.legend(['true', 'model', 'counter'])\n",
        "plt.title(\"vary x1, x2={xval}\".format(xval = x[1]))\n",
        "\n",
        "# x2_vary = np.array([[x[0],u] for u in np.arange(0.0, 1.0, 0.1)])\n",
        "# true_x2_vary = np.array([true_func(z) for z in x2_vary])\n",
        "# model_x2_vary = model.predict(x2_vary)\n",
        "\n",
        "\n",
        "# plt.plot(x2_vary[:,1], true_x2_vary, '.')\n",
        "# plt.plot(x2_vary[:,1], model_x2_vary, '.')\n",
        "# plt.legend(['true', 'model'])\n",
        "# plt.title(\"vary x2, x1={xval}\".format(xval = x[0]))"
      ],
      "metadata": {
        "colab": {
          "height": 300
        },
        "id": "Ynuu_J8TdlGs",
        "executionInfo": {
          "status": "ok",
          "timestamp": 1661892602198,
          "user_tz": 420,
          "elapsed": 300,
          "user": {
            "displayName": "Blair Bilodeau",
            "userId": "00770269707576923658"
          }
        },
        "outputId": "a7edb3c2-4c25-41f5-f791-3aa7390ebeef"
      },
      "execution_count": null,
      "outputs": [
        {
          "output_type": "execute_result",
          "data": {
            "text/plain": [
              "Text(0.5, 1.0, 'vary x1, x2=0.12582125418280965')"
            ]
          },
          "metadata": {},
          "execution_count": 912
        },
        {
          "output_type": "display_data",
          "data": {
            "image/png": "[encoded data removed]",
            "text/plain": [
              "<Figure size 600x400 with 1 Axes>"
            ]
          },
          "metadata": {}
        }
      ]
    },
    {
      "cell_type": "markdown",
      "source": [
        "compare shap values"
      ],
      "metadata": {
        "id": "F-286S7Cmffh"
      }
    },
    {
      "cell_type": "code",
      "source": [
        "ind = 2\n",
        "print(\"true shap = {x}\".format(x = round(shap(true_func, 2, X_samp, covval, ind, M=1000),4)))\n",
        "print(\"model shap = {x}\".format(x = round(shap(shap_model, 2, X_samp, covval, ind, M=1000)[0],3)))\n",
        "print(\"counter shap = {x}\".format(x = round(shap(counterexample, 2, X_samp, covval, ind, M=1000),4)))\n",
        "#print(covval)\n",
        "#X_train_small[1]\n",
        "\n",
        "#covdist_sampler = lambda n: X_samp(1)[:,0].reshape((1,1))\n",
        "#covdist_sampler(1)[0]"
      ],
      "metadata": {
        "id": "_LH0XcDM7qcQ",
        "executionInfo": {
          "status": "ok",
          "timestamp": 1661892681557,
          "user_tz": 420,
          "elapsed": 16407,
          "user": {
            "displayName": "Blair Bilodeau",
            "userId": "00770269707576923658"
          }
        },
        "outputId": "8b4f6fdd-c520-4848-f58f-ae4b2eb1a566"
      },
      "execution_count": null,
      "outputs": [
        {
          "output_type": "stream",
          "name": "stdout",
          "text": [
            "true shap = 0.3222\n",
            "model shap = 0.3240000009536743\n",
            "counter shap = 0.2877\n"
          ]
        }
      ]
    },
    {
      "cell_type": "markdown",
      "source": [
        "compare accuracy"
      ],
      "metadata": {
        "id": "nptnfyT_xIFw"
      }
    },
    {
      "cell_type": "code",
      "source": [
        "model_train_err = np.mean(np.square(np.array([true_func(z) for z in X_train]).reshape((len(X_train),1)) - model.predict(X_train)))\n",
        "print(\"model train error = {x}\".format(x=round(model_train_err,4)))\n",
        "\n",
        "counter_train_err = np.mean(np.square(np.array([true_func(z) for z in X_train]).reshape((len(X_train),1)) - np.array([counterexample(z) for z in X_train]).reshape((len(X_train),1))))\n",
        "print(\"counter train error = {x}\".format(x=round(counter_train_err,4)))\n",
        "\n",
        "model_test_err = np.mean(np.square(np.array([true_func(z) for z in X_test]).reshape((len(X_test),1)) - model.predict(X_test)))\n",
        "print(\"model test error = {x}\".format(x=round(model_test_err,4)))\n",
        "\n",
        "counter_test_err = np.mean(np.square(np.array([true_func(z) for z in X_test]).reshape((len(X_test),1)) - np.array([counterexample(z) for z in X_test]).reshape((len(X_test),1))))\n",
        "print(\"counter test error = {x}\".format(x=round(counter_test_err,4)))"
      ],
      "metadata": {
        "id": "G8ORd1TzxJ2-",
        "executionInfo": {
          "status": "ok",
          "timestamp": 1661962919297,
          "user_tz": 420,
          "elapsed": 106,
          "user": {
            "displayName": "Blair Bilodeau",
            "userId": "00770269707576923658"
          }
        },
        "outputId": "6c056da7-ccfd-4549-b3fd-98062b8d8b5b"
      },
      "execution_count": null,
      "outputs": [
        {
          "output_type": "stream",
          "name": "stdout",
          "text": [
            "model train error = 0.0097\n",
            "counter train error = 0.0408\n",
            "model test error = 0.0087\n",
            "counter test error = 0.0408\n"
          ]
        }
      ]
    },
    {
      "cell_type": "markdown",
      "source": [
        "where is the accuracy worst?"
      ],
      "metadata": {
        "id": "kv0_2Y_cpoZn"
      }
    },
    {
      "cell_type": "code",
      "source": [
        "#print(covval)\n",
        "\n",
        "# how does the error change as you vary x1 (averaged over x2)\n",
        "# expect to see it peak near covval[0]\n",
        "def x1_discrepancy(x1):\n",
        "  xvals = np.array([[x1,u] for u in np.arange(0,1,0.01)])\n",
        "  return np.mean(np.square(np.array([counterexample(z) for z in xvals]).reshape((len(xvals),1)) - model.predict(xvals)))\n",
        "\n",
        "def x2_discrepancy(x2):\n",
        "  xvals = np.array([[u,x2] for u in np.arange(0,1,0.01)])\n",
        "  return np.mean(np.square(np.array([counterexample(z) for z in xvals]).reshape((len(xvals),1)) - model.predict(xvals)))\n",
        "\n",
        "x1vals = np.arange(0,1,0.05)\n",
        "x1disc_vals = np.array([x1_discrepancy(x1) for x1 in x1vals])\n",
        "\n",
        "plt.plot(x1vals, x1disc_vals, '.')\n",
        "plt.title('x1 discrepancy')\n",
        "plt.axvline(x = covval[0], color = 'b', ls=':')\n",
        "\n",
        "#\n",
        "\n",
        "# x2vals = np.arange(0,1,0.05)\n",
        "# x2disc_vals = np.array([x2_discrepancy(x2) for x2 in x2vals])\n",
        "\n",
        "# plt.plot(x2vals, x2disc_vals, '.')\n",
        "# plt.title('x2 discrepancy')\n",
        "# plt.axvline(x = covval[1], color = 'b', ls=':')"
      ],
      "metadata": {
        "colab": {
          "height": 300
        },
        "id": "AlqghEpgpznt",
        "executionInfo": {
          "status": "ok",
          "timestamp": 1661962916680,
          "user_tz": 420,
          "elapsed": 371,
          "user": {
            "displayName": "Blair Bilodeau",
            "userId": "00770269707576923658"
          }
        },
        "outputId": "a501b17e-6d80-456d-a845-961186fd0357"
      },
      "execution_count": null,
      "outputs": [
        {
          "output_type": "execute_result",
          "data": {
            "text/plain": [
              "<matplotlib.lines.Line2D at 0x7f7ac3271430>"
            ]
          },
          "metadata": {},
          "execution_count": 949
        },
        {
          "output_type": "display_data",
          "data": {
            "image/png": "[encoded data removed]",
            "text/plain": [
              "<Figure size 600x400 with 1 Axes>"
            ]
          },
          "metadata": {}
        }
      ]
    },
    {
      "cell_type": "markdown",
      "source": [
        "construct regularized least squares counterexample"
      ],
      "metadata": {
        "id": "EvkW9QGZ3irt"
      }
    },
    {
      "cell_type": "code",
      "source": [
        "# number of datapoints we have\n",
        "X_train_small = X_train\n",
        "n_train = len(X_train_small)\n",
        "\n",
        "# example to match phi on\n",
        "# hardcoded in for prototyping\n",
        "#covval_ind = np.random.randint(n_train,size=1)\n",
        "#covval = X_train[covval_ind][0]\n",
        "covval = np.array([0.3,0.8])\n",
        "\n",
        "# phi values to match\n",
        "expval1 = shap(shap_model, 2, X_samp, covval, 1, M=100)\n",
        "expval2 = shap(shap_model, 2, X_samp, covval, 2, M=100)\n",
        "\n",
        "# FREE PARAMS\n",
        "# fix these to whatever you want\n",
        "deriv_val1 = np.array([1])\n",
        "deriv_val2 = np.array([-1])\n",
        "\n",
        "# n constraints for training data points (only use covval from training data) -- assume n is odd\n",
        "# 2 constraints for expvals\n",
        "# if each polynomial is degree d, then we have 2d+1 parameters -- only x1 gets intercept\n",
        "# want 2d+1 = n+4 (match all constraints, plus extra free dimension for each feature)\n",
        "# d = (n+3)/2\n",
        "#degree = int((n_train+3)/2)\n",
        "degree = 5\n",
        "reg_param = 1\n",
        "\n",
        "model_y = model.predict(X_train_small).reshape((n_train,))\n",
        "values = np.append(model_y,[reg_param*expval1,reg_param*expval2,reg_param*deriv_val1,reg_param*deriv_val2]).reshape((n_train+4,1))\n",
        "\n",
        "# powers of training values\n",
        "X_train_pows1 = np.array([[x[0]**j for j in range(1,degree+1)] for x in X_train_small])\n",
        "X_train_pows2 = np.array([[x[1]**j for j in range(1,degree+1)] for x in X_train_small])\n",
        "X_train_pows = np.hstack((np.ones((n_train, 1)), X_train_pows1, X_train_pows2)) # [1, x1, x1**2, ..., x1**d, x2, x2**2, ..., x2**d]\n",
        "\n",
        "# approximate moments to control expvals\n",
        "# NOT assuming independence\n",
        "# shift them by xval (because using to compute phi)\n",
        "num_per_deg = 1000\n",
        "moment_samps = X_samp(num_per_deg*degree)\n",
        "moments1 = np.array([covval[0]**j - np.mean(moment_samps[:,0]**j) for j in range(1,degree+1)]).reshape((1,degree))\n",
        "moments2 = np.array([[covval[1]**j - np.mean(moment_samps[:,1]**j) for j in range(1,degree+1)]]).reshape((1,degree))\n",
        "moments1 = np.hstack((np.zeros((1, 1)), moments1, np.zeros((1, degree)))) # [0, x1-Ex1, x1**2-Ex1**2, ..., x1**d-Ex1**d, 0, 0, 0, ..., 0]\n",
        "moments2 = np.hstack((np.zeros((1, degree+1)), moments2)) # [0, 0, 0, ..., 0, 0, x2-Ex2, x2**2-Ex2**2, ..., x2**d-Ex2**d]\n",
        "\n",
        "# derivatives at covval\n",
        "derivs1 = np.array([j*(covval[0]**(j-1)) for j in range(1,degree+1)]).reshape(1,degree)\n",
        "derivs2 = np.array([j*(covval[1]**(j-1)) for j in range(1,degree+1)]).reshape(1,degree)\n",
        "derivs1 = np.hstack((np.zeros((1, 1)), derivs1, np.zeros((1, degree)))) # [0, 1, 2*x1, ..., d*x1**(d-1), 0, 0, 0, ..., 0]\n",
        "derivs2 = np.hstack((np.zeros((1, degree+1)), derivs2)) # [0, 0, 0, ..., 0, 1, 2*x2, ..., d*x2**(d-1)]\n",
        "\n",
        "constraints = np.vstack((X_train_pows, reg_param*moments1, reg_param*moments2, reg_param*derivs1, reg_param*derivs2))\n",
        "print(X_train_pows.shape)\n",
        "print(moments1.shape)\n",
        "print(moments2.shape)\n",
        "print(derivs1.shape)\n",
        "print(derivs2.shape)\n",
        "print(constraints.shape)\n",
        "# print(values.shape)\n",
        "# print(degree)\n",
        "# print(n_train)\n",
        "\n",
        "### solve least squares\n",
        "params = np.linalg.lstsq(constraints,values,rcond=None)[0].reshape((2*degree+1,))\n",
        "print(params)\n",
        "\n",
        "def counterexample(x):\n",
        "  x1, x2 = x\n",
        "\n",
        "  val = 0\n",
        "  for j in range(degree+1):\n",
        "    val += params[j] * (x1**(j))\n",
        "  for k in range(degree+1,2*degree+1):\n",
        "    val += params[k] * (x2**(k-degree))\n",
        "\n",
        "  return val"
      ],
      "metadata": {
        "id": "FQ-yVoNE3qAK",
        "executionInfo": {
          "status": "ok",
          "timestamp": 1663171254940,
          "user_tz": 420,
          "elapsed": 73077,
          "user": {
            "displayName": "Blair Bilodeau",
            "userId": "00770269707576923658"
          }
        },
        "outputId": "a39a7362-efae-4e45-8cac-8d0b877c6c5b"
      },
      "execution_count": null,
      "outputs": [
        {
          "output_type": "stream",
          "name": "stdout",
          "text": [
            "11/11 [==============================] - 0s 1ms/step\n",
            "(350, 11)\n",
            "(1, 11)\n",
            "(1, 11)\n",
            "(1, 11)\n",
            "(1, 11)\n",
            "(354, 11)\n",
            "[-2.34482069e-02 -3.61782578e+00  1.24504651e+01 -2.96936500e+01\n",
            "  4.33800315e+01 -2.18226735e+01  4.39908474e+00 -3.33003893e+01\n",
            "  9.75551265e+01 -1.13655883e+02  4.61985449e+01]\n"
          ]
        }
      ]
    },
    {
      "cell_type": "markdown",
      "source": [
        "visualize gradient difference"
      ],
      "metadata": {
        "id": "eeRuxoHMA0Dj"
      }
    },
    {
      "cell_type": "code",
      "source": [
        "delta = 0.05\n",
        "\n",
        "x = covval\n",
        "x1,x2 = x\n",
        "\n",
        "x1_vary = np.array([[u,x[1]] for u in np.arange(x1-delta, x1+delta, delta/10)])\n",
        "x1_vary\n",
        "true_x1_vary = np.array([true_func(z) for z in x1_vary])\n",
        "model_x1_vary = model.predict(x1_vary)\n",
        "counter_x1_vary = np.array([counterexample(z) for z in x1_vary])\n",
        "\n",
        "plt.plot(x1_vary[:,0], true_x1_vary, '.')\n",
        "plt.plot(x1_vary[:,0], model_x1_vary, '.')\n",
        "plt.plot(x1_vary[:,0], counter_x1_vary, '.')\n",
        "plt.legend(['true', 'model', 'counter'])\n",
        "plt.title(\"vary x1, x2={xval}\".format(xval = x[1]))\n",
        "\n",
        "# x2_vary = np.array([[x[0],u] for u in np.arange(x2-delta, x2+delta, delta/10)])\n",
        "# true_x2_vary = np.array([true_func(z) for z in x2_vary])\n",
        "# model_x2_vary = model.predict(x2_vary)\n",
        "# counter_x2_vary = np.array([counterexample(z) for z in x2_vary])\n",
        "\n",
        "\n",
        "# plt.plot(x2_vary[:,1], true_x2_vary, '.')\n",
        "# plt.plot(x2_vary[:,1], model_x2_vary, '.')\n",
        "# plt.plot(x2_vary[:,1], counter_x2_vary, '.')\n",
        "# plt.legend(['true', 'model', 'counter'])\n",
        "# plt.title(\"vary x2, x1={xval}\".format(xval = x[0]))"
      ],
      "metadata": {
        "colab": {
          "height": 320
        },
        "id": "Vl3NSoJ0A28d",
        "executionInfo": {
          "status": "ok",
          "timestamp": 1663171273974,
          "user_tz": 420,
          "elapsed": 455,
          "user": {
            "displayName": "Blair Bilodeau",
            "userId": "00770269707576923658"
          }
        },
        "outputId": "eff965f4-c41f-493b-cd17-cc18f35705e0"
      },
      "execution_count": null,
      "outputs": [
        {
          "output_type": "stream",
          "name": "stdout",
          "text": [
            "1/1 [==============================] - 0s 33ms/step\n"
          ]
        },
        {
          "output_type": "execute_result",
          "data": {
            "text/plain": [
              "Text(0.5, 1.0, 'vary x1, x2=0.8')"
            ]
          },
          "metadata": {},
          "execution_count": 10
        },
        {
          "output_type": "display_data",
          "data": {
            "image/png": "[encoded data removed]",
            "text/plain": [
              "<Figure size 600x400 with 1 Axes>"
            ]
          },
          "metadata": {}
        }
      ]
    }
  ]
}